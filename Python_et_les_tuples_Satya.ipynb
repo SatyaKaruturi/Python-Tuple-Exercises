{
  "nbformat": 4,
  "nbformat_minor": 0,
  "metadata": {
    "colab": {
      "name": "Python et les tuples_Satya.ipynb",
      "provenance": [],
      "collapsed_sections": [],
      "include_colab_link": true
    },
    "kernelspec": {
      "name": "python3",
      "display_name": "Python 3"
    }
  },
  "cells": [
    {
      "cell_type": "markdown",
      "metadata": {
        "id": "view-in-github",
        "colab_type": "text"
      },
      "source": [
        "<a href=\"https://colab.research.google.com/github/SatyaKaruturi/Python-Tuple-Exercises/blob/master/Python_et_les_tuples_Satya.ipynb\" target=\"_parent\"><img src=\"https://colab.research.google.com/assets/colab-badge.svg\" alt=\"Open In Colab\"/></a>"
      ]
    },
    {
      "cell_type": "markdown",
      "metadata": {
        "id": "LoJw-LlCTnWF",
        "colab_type": "text"
      },
      "source": [
        "# Mission 1\n",
        "\n",
        "Crée un tuple de ton choix contenant 10 éléments dans cet ordre :\n",
        "- 3 int\n",
        "- 3 str\n",
        "- 2 listes contenant 3 éléments chacune\n",
        "- 2 dictionnaires contenant 3 éléments (3 paires clé/valeur) chacun \n",
        "\n",
        "\n",
        "Accède à l'avant avant dernier élément de la deuxième liste."
      ]
    },
    {
      "cell_type": "code",
      "metadata": {
        "id": "C2Lk113KSPUO",
        "colab_type": "code",
        "outputId": "8ee4008b-6aba-48d1-dd0e-85eea50de3a7",
        "colab": {
          "base_uri": "https://localhost:8080/",
          "height": 34
        }
      },
      "source": [
        "my_tuple =  (2, 3, 4, \"a\", \"b\", \"c\")\n",
        "my_liste1 = [2, 3, 4]\n",
        "my_liste2 = [\"a\", \"b\", \"c\"]\n",
        "my_dict1 = {\"int1\": 1, \"int2\": 2, \"int3\": 3}\n",
        "my_dict2 = {\"let1\": \"a\", \"let2\": \"b\", \"let3\": \"c\"}\n",
        "\n",
        "mon_tuple2 = (my_tuple, my_liste1, my_liste2, my_dict1, my_dict2)\n",
        "\n",
        "mon_tuple2[2][-3]"
      ],
      "execution_count": 0,
      "outputs": [
        {
          "output_type": "execute_result",
          "data": {
            "text/plain": [
              "'a'"
            ]
          },
          "metadata": {
            "tags": []
          },
          "execution_count": 35
        }
      ]
    },
    {
      "cell_type": "markdown",
      "metadata": {
        "id": "HGoGFI9qxuzW",
        "colab_type": "text"
      },
      "source": [
        "# Mission 2\n",
        "\n",
        "Pour le même tuple, accède aux 4 derniers éléments grâce au sciling"
      ]
    },
    {
      "cell_type": "code",
      "metadata": {
        "id": "qk097m4Zx4mR",
        "colab_type": "code",
        "outputId": "645fbdd7-acea-4597-c005-ca4d7e3a696d",
        "colab": {
          "base_uri": "https://localhost:8080/",
          "height": 34
        }
      },
      "source": [
        "my_tuple[2:6]"
      ],
      "execution_count": 0,
      "outputs": [
        {
          "output_type": "execute_result",
          "data": {
            "text/plain": [
              "(4, 'a', 'b', 'c')"
            ]
          },
          "metadata": {
            "tags": []
          },
          "execution_count": 8
        }
      ]
    },
    {
      "cell_type": "markdown",
      "metadata": {
        "id": "iVHJFx3Px8mY",
        "colab_type": "text"
      },
      "source": [
        "# Mission 3\n",
        "\n",
        "Change la valeur du 4ème élément (la 1ère chaine de caractère) de ton tuple (oui oui c'est possible !)"
      ]
    },
    {
      "cell_type": "code",
      "metadata": {
        "id": "WIpD2eACl14i",
        "colab_type": "code",
        "outputId": "b472446c-fcd3-494d-a8fc-e4ecc3cc3ab8",
        "colab": {
          "base_uri": "https://localhost:8080/",
          "height": 34
        }
      },
      "source": [
        "L1 = list(my_tuple)\n",
        "L1[3] = \"k\"\n",
        "Tuple1 = tuple(L1)\n",
        "Tuple1"
      ],
      "execution_count": 0,
      "outputs": [
        {
          "output_type": "execute_result",
          "data": {
            "text/plain": [
              "(2, 3, 4, 'k', 'b', 'c')"
            ]
          },
          "metadata": {
            "tags": []
          },
          "execution_count": 9
        }
      ]
    },
    {
      "cell_type": "markdown",
      "metadata": {
        "id": "Wp3_jhWS2Foi",
        "colab_type": "text"
      },
      "source": [
        "# Mission 4\n",
        "\n",
        "Crée 2 tuples qui ne contiennent que des int.\n",
        "Crée une fonction qui les compare entre eux et indique lequel à la valeur la plus élevée quand on additionne toutes les valeurs qu'il contient. "
      ]
    },
    {
      "cell_type": "code",
      "metadata": {
        "id": "dGMYxaMWx8RO",
        "colab_type": "code",
        "outputId": "249ab54c-91ef-4e11-8a8c-27d42385250d",
        "colab": {
          "base_uri": "https://localhost:8080/",
          "height": 34
        }
      },
      "source": [
        "\n",
        "\n",
        "def highvalue(T1,T2):\n",
        "  if sum(T1)> sum(T2):\n",
        "    print(T1)\n",
        "  else:\n",
        "    print(T2)\n",
        "    \n",
        "highvalue((5,4,8,6), (2,7,4,3) )"
      ],
      "execution_count": 0,
      "outputs": [
        {
          "output_type": "stream",
          "text": [
            "(5, 4, 8, 6)\n"
          ],
          "name": "stdout"
        }
      ]
    },
    {
      "cell_type": "markdown",
      "metadata": {
        "id": "Zmk8uviVzPBZ",
        "colab_type": "text"
      },
      "source": [
        "# Mission 5\n",
        "\n",
        "Voilà un tuple :\n",
        "\n",
        "mon_tuple = (\"data analyst\", \"data scientist\", \"data ingénieur\", \"data architect\")\n",
        "\n",
        "Créer une fonction qui permet de modifier une des valeurs d'un tuple en indiquand la position de la valeur à modifier. Faites le test avec mon_tuple."
      ]
    },
    {
      "cell_type": "code",
      "metadata": {
        "id": "0o-MuRyZ1_7u",
        "colab_type": "code",
        "outputId": "2790330f-e873-4964-980d-40214d5cd0f6",
        "colab": {
          "base_uri": "https://localhost:8080/",
          "height": 34
        }
      },
      "source": [
        "def element_change(mon_tuple, i, value):\n",
        "\n",
        "     L1 = list(mon_tuple)\n",
        "     L1[i - 1]= value\n",
        "     return tuple(L1)\n",
        "\n",
        "element_change((\"data analyst\", \"data scientist\", \"data ingénieur\", \"data architect\"), 2, \"Business analyst\")\n"
      ],
      "execution_count": 0,
      "outputs": [
        {
          "output_type": "execute_result",
          "data": {
            "text/plain": [
              "('data analyst', 'Business analyst', 'data ingénieur', 'data architect')"
            ]
          },
          "metadata": {
            "tags": []
          },
          "execution_count": 30
        }
      ]
    }
  ]
}